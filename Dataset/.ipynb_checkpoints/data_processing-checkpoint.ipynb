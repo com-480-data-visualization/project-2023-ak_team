{
 "cells": [
  {
   "cell_type": "code",
   "execution_count": 1,
   "id": "8a45832c",
   "metadata": {},
   "outputs": [],
   "source": [
    "import pandas as pd\n",
    "import numpy as np\n",
    "from tqdm import tqdm\n",
    "\n",
    "import os\n",
    "from IPython.display import display, Image"
   ]
  },
  {
   "cell_type": "code",
   "execution_count": 2,
   "id": "e3d3555b",
   "metadata": {},
   "outputs": [],
   "source": [
    "def year_from_title(dataframe, title):\n",
    "    df_row = dataframe[dataframe['Title'] == title]\n",
    "    year = df_row['Released'].to_list()\n",
    "    \n",
    "    if len(year) == 0:\n",
    "        print(\"The movie is not in the dataset or has a different name\")\n",
    "        return 0\n",
    "    \n",
    "    return int(year[0][-4:])\n",
    "\n",
    "def get_poster_id(dataframe, title):\n",
    "    df_row = dataframe[dataframe['Title'] == title]\n",
    "    poster_id = df_row[\"Poster\"].to_list()\n",
    "    return poster_id[0]\n",
    "\n",
    "def show_image(dataframe, movie_title):\n",
    "    \n",
    "    year = str(year_from_title(dataframe, movie_title))\n",
    "    \n",
    "    if year == \"0\":\n",
    "        return 0\n",
    "    \n",
    "    poster_id = get_poster_id(dataframe, movie_title)\n",
    "    \n",
    "    image_directory = \"movie_poster_per_year/\"+year\n",
    "\n",
    "    # Get a list of all JPEG files in the directory\n",
    "    image_files = [f for f in os.listdir(image_directory) if f == poster_id]\n",
    "\n",
    "    for image_file in image_files:\n",
    "        image_path = os.path.join(image_directory, image_file)\n",
    "        display(Image(filename=image_path))"
   ]
  },
  {
   "cell_type": "markdown",
   "id": "90bd662f",
   "metadata": {},
   "source": [
    "**Take data from csv and filter useful information**"
   ]
  },
  {
   "cell_type": "code",
   "execution_count": 6,
   "id": "f26e7c3c",
   "metadata": {},
   "outputs": [],
   "source": [
    "movie_df = pd.read_csv(\"complete_data_movie_with_correct_actor2.csv\") "
   ]
  },
  {
   "cell_type": "code",
   "execution_count": 10,
   "id": "d7f793e9",
   "metadata": {},
   "outputs": [
    {
     "data": {
      "text/plain": [
       "2495    ['Brad Pitt', 'George Clooney', 'Julia Roberts...\n",
       "Name: Actors, dtype: object"
      ]
     },
     "execution_count": 10,
     "metadata": {},
     "output_type": "execute_result"
    }
   ],
   "source": [
    "movie_df[movie_df[\"Title\"] == \"Ocean's Eleven\"][\"Actors\"]\n"
   ]
  },
  {
   "cell_type": "code",
   "execution_count": 11,
   "id": "fd212c25",
   "metadata": {},
   "outputs": [
    {
     "data": {
      "text/html": [
       "<div>\n",
       "<style scoped>\n",
       "    .dataframe tbody tr th:only-of-type {\n",
       "        vertical-align: middle;\n",
       "    }\n",
       "\n",
       "    .dataframe tbody tr th {\n",
       "        vertical-align: top;\n",
       "    }\n",
       "\n",
       "    .dataframe thead th {\n",
       "        text-align: right;\n",
       "    }\n",
       "</style>\n",
       "<table border=\"1\" class=\"dataframe\">\n",
       "  <thead>\n",
       "    <tr style=\"text-align: right;\">\n",
       "      <th></th>\n",
       "      <th>Title</th>\n",
       "      <th>Genre</th>\n",
       "      <th>Actors</th>\n",
       "      <th>Director</th>\n",
       "      <th>Writer</th>\n",
       "      <th>Language</th>\n",
       "      <th>Box_office</th>\n",
       "      <th>Country</th>\n",
       "      <th>Released</th>\n",
       "      <th>Runtime</th>\n",
       "      <th>imdbRating</th>\n",
       "      <th>Awards</th>\n",
       "      <th>Poster</th>\n",
       "    </tr>\n",
       "  </thead>\n",
       "  <tbody>\n",
       "    <tr>\n",
       "      <th>0</th>\n",
       "      <td>Stir Crazy</td>\n",
       "      <td>Comedy, Crime</td>\n",
       "      <td>['Gene Wilder', 'Richard Pryor', 'JoBeth Willi...</td>\n",
       "      <td>['Sidney Poitier']</td>\n",
       "      <td>Bruce Jay Friedman</td>\n",
       "      <td>English</td>\n",
       "      <td>101,500,000</td>\n",
       "      <td>USA</td>\n",
       "      <td>12 Dec 1980</td>\n",
       "      <td>111 min</td>\n",
       "      <td>6.8</td>\n",
       "      <td>1 nomination.</td>\n",
       "      <td>tt0081562.jpg</td>\n",
       "    </tr>\n",
       "    <tr>\n",
       "      <th>1</th>\n",
       "      <td>Airplane!</td>\n",
       "      <td>Comedy</td>\n",
       "      <td>['Leslie Nielsen', 'Lloyd Bridges', 'Robert Ha...</td>\n",
       "      <td>['Jim Abrahams', 'David Zucker', 'Jerry Zucker']</td>\n",
       "      <td>Jim Abrahams (written for the screen by), Davi...</td>\n",
       "      <td>English</td>\n",
       "      <td>83,400,000</td>\n",
       "      <td>USA</td>\n",
       "      <td>02 Jul 1980</td>\n",
       "      <td>88 min</td>\n",
       "      <td>7.8</td>\n",
       "      <td>Nominated for 1 Golden Globe. Another 2 wins &amp;...</td>\n",
       "      <td>tt0080339.jpg</td>\n",
       "    </tr>\n",
       "    <tr>\n",
       "      <th>2</th>\n",
       "      <td>Private Benjamin</td>\n",
       "      <td>Comedy, War</td>\n",
       "      <td>['Goldie Hawn', 'Sally Kirkland', 'Armand Assa...</td>\n",
       "      <td>['Howard Zieff']</td>\n",
       "      <td>Nancy Meyers, Charles Shyer, Harvey Miller</td>\n",
       "      <td>English</td>\n",
       "      <td>69,800,000</td>\n",
       "      <td>USA</td>\n",
       "      <td>10 Oct 1980</td>\n",
       "      <td>109 min</td>\n",
       "      <td>6.1</td>\n",
       "      <td>Nominated for 3 Oscars. Another 1 win &amp; 3 nomi...</td>\n",
       "      <td>tt0081375.jpg</td>\n",
       "    </tr>\n",
       "    <tr>\n",
       "      <th>3</th>\n",
       "      <td>Coal Miner's Daughter</td>\n",
       "      <td>Biography, Drama, Music</td>\n",
       "      <td>['Tommy Lee Jones', \"Beverly D'Angelo\", 'Sissy...</td>\n",
       "      <td>['Michael Apted']</td>\n",
       "      <td>Thomas Rickman (screenplay), Loretta Lynn (aut...</td>\n",
       "      <td>English</td>\n",
       "      <td>79,900,000</td>\n",
       "      <td>USA</td>\n",
       "      <td>07 Mar 1980</td>\n",
       "      <td>124 min</td>\n",
       "      <td>7.5</td>\n",
       "      <td>Won 1 Oscar. Another 8 wins &amp; 13 nominations.</td>\n",
       "      <td>tt0080549.jpg</td>\n",
       "    </tr>\n",
       "    <tr>\n",
       "      <th>4</th>\n",
       "      <td>Smokey and the Bandit II</td>\n",
       "      <td>Action, Comedy</td>\n",
       "      <td>['Sally Field', 'Burt Reynolds', 'Dom DeLuise'...</td>\n",
       "      <td>['Hal Needham']</td>\n",
       "      <td>Hal Needham (characters created by), Robert L....</td>\n",
       "      <td>English, Spanish</td>\n",
       "      <td>66,100,000</td>\n",
       "      <td>USA</td>\n",
       "      <td>15 Aug 1980</td>\n",
       "      <td>100 min</td>\n",
       "      <td>5.1</td>\n",
       "      <td>1 win &amp; 4 nominations.</td>\n",
       "      <td>tt0081529.jpg</td>\n",
       "    </tr>\n",
       "    <tr>\n",
       "      <th>...</th>\n",
       "      <td>...</td>\n",
       "      <td>...</td>\n",
       "      <td>...</td>\n",
       "      <td>...</td>\n",
       "      <td>...</td>\n",
       "      <td>...</td>\n",
       "      <td>...</td>\n",
       "      <td>...</td>\n",
       "      <td>...</td>\n",
       "      <td>...</td>\n",
       "      <td>...</td>\n",
       "      <td>...</td>\n",
       "      <td>...</td>\n",
       "    </tr>\n",
       "    <tr>\n",
       "      <th>6021</th>\n",
       "      <td>Body</td>\n",
       "      <td>Comedy, Drama</td>\n",
       "      <td>['Larry Fessenden', 'Alexandra Turshen']</td>\n",
       "      <td>['Malgorzata Szumowska']</td>\n",
       "      <td>Michal Englert (screenplay), Malgorzata Szumow...</td>\n",
       "      <td>Polish, Spanish</td>\n",
       "      <td>2,457</td>\n",
       "      <td>Poland</td>\n",
       "      <td>06 Mar 2015</td>\n",
       "      <td>90 min</td>\n",
       "      <td>6.6</td>\n",
       "      <td>6 wins &amp; 4 nominations.</td>\n",
       "      <td>tt4358230.jpg</td>\n",
       "    </tr>\n",
       "    <tr>\n",
       "      <th>6022</th>\n",
       "      <td>Hayride 2</td>\n",
       "      <td>Action, Horror, Thriller</td>\n",
       "      <td>[]</td>\n",
       "      <td>['Terron R. Parsons']</td>\n",
       "      <td>Terron R. Parsons</td>\n",
       "      <td>English</td>\n",
       "      <td>1,668</td>\n",
       "      <td>USA</td>\n",
       "      <td>18 Mar 2016</td>\n",
       "      <td>92 min</td>\n",
       "      <td>2.9</td>\n",
       "      <td>NaN</td>\n",
       "      <td>tt2924352.jpg</td>\n",
       "    </tr>\n",
       "    <tr>\n",
       "      <th>6023</th>\n",
       "      <td>The Lady in the Car with Glasses and a Gun</td>\n",
       "      <td>Thriller</td>\n",
       "      <td>['Freya Mavor', 'Stacy Martin']</td>\n",
       "      <td>['Joann Sfar']</td>\n",
       "      <td>Patrick Godeau (screenplay), Sébastien Japriso...</td>\n",
       "      <td>French</td>\n",
       "      <td>2,033</td>\n",
       "      <td>France, Belgium</td>\n",
       "      <td>18 Dec 2015</td>\n",
       "      <td>93 min</td>\n",
       "      <td>5.5</td>\n",
       "      <td>NaN</td>\n",
       "      <td>tt4159182.jpg</td>\n",
       "    </tr>\n",
       "    <tr>\n",
       "      <th>6024</th>\n",
       "      <td>The Looking Glass</td>\n",
       "      <td>Drama, Music</td>\n",
       "      <td>['Dorothy Tristan', 'Trish Basinger', 'Ed Erns...</td>\n",
       "      <td>['John D. Hancock']</td>\n",
       "      <td>Dorothy Tristan, Dorothy Tristan</td>\n",
       "      <td>English</td>\n",
       "      <td>1,711</td>\n",
       "      <td>USA</td>\n",
       "      <td>27 Aug 2015</td>\n",
       "      <td>110 min</td>\n",
       "      <td>7.2</td>\n",
       "      <td>NaN</td>\n",
       "      <td>tt2912776.jpg</td>\n",
       "    </tr>\n",
       "    <tr>\n",
       "      <th>6025</th>\n",
       "      <td>Drown</td>\n",
       "      <td>Drama, Sport</td>\n",
       "      <td>['JayR Tinaco']</td>\n",
       "      <td>['Dean Francis']</td>\n",
       "      <td>Stephen Davis, Dean Francis, Stephen Davis (play)</td>\n",
       "      <td>English</td>\n",
       "      <td>1,631</td>\n",
       "      <td>Australia</td>\n",
       "      <td>04 Mar 2015</td>\n",
       "      <td>93 min</td>\n",
       "      <td>5.7</td>\n",
       "      <td>8 wins &amp; 3 nominations.</td>\n",
       "      <td>tt2241750.jpg</td>\n",
       "    </tr>\n",
       "  </tbody>\n",
       "</table>\n",
       "<p>6026 rows × 13 columns</p>\n",
       "</div>"
      ],
      "text/plain": [
       "                                           Title                     Genre  \\\n",
       "0                                     Stir Crazy             Comedy, Crime   \n",
       "1                                      Airplane!                    Comedy   \n",
       "2                               Private Benjamin               Comedy, War   \n",
       "3                          Coal Miner's Daughter   Biography, Drama, Music   \n",
       "4                       Smokey and the Bandit II            Action, Comedy   \n",
       "...                                          ...                       ...   \n",
       "6021                                        Body             Comedy, Drama   \n",
       "6022                                   Hayride 2  Action, Horror, Thriller   \n",
       "6023  The Lady in the Car with Glasses and a Gun                  Thriller   \n",
       "6024                           The Looking Glass              Drama, Music   \n",
       "6025                                       Drown              Drama, Sport   \n",
       "\n",
       "                                                 Actors  \\\n",
       "0     ['Gene Wilder', 'Richard Pryor', 'JoBeth Willi...   \n",
       "1     ['Leslie Nielsen', 'Lloyd Bridges', 'Robert Ha...   \n",
       "2     ['Goldie Hawn', 'Sally Kirkland', 'Armand Assa...   \n",
       "3     ['Tommy Lee Jones', \"Beverly D'Angelo\", 'Sissy...   \n",
       "4     ['Sally Field', 'Burt Reynolds', 'Dom DeLuise'...   \n",
       "...                                                 ...   \n",
       "6021           ['Larry Fessenden', 'Alexandra Turshen']   \n",
       "6022                                                 []   \n",
       "6023                    ['Freya Mavor', 'Stacy Martin']   \n",
       "6024  ['Dorothy Tristan', 'Trish Basinger', 'Ed Erns...   \n",
       "6025                                    ['JayR Tinaco']   \n",
       "\n",
       "                                              Director  \\\n",
       "0                                   ['Sidney Poitier']   \n",
       "1     ['Jim Abrahams', 'David Zucker', 'Jerry Zucker']   \n",
       "2                                     ['Howard Zieff']   \n",
       "3                                    ['Michael Apted']   \n",
       "4                                      ['Hal Needham']   \n",
       "...                                                ...   \n",
       "6021                          ['Malgorzata Szumowska']   \n",
       "6022                             ['Terron R. Parsons']   \n",
       "6023                                    ['Joann Sfar']   \n",
       "6024                               ['John D. Hancock']   \n",
       "6025                                  ['Dean Francis']   \n",
       "\n",
       "                                                 Writer          Language  \\\n",
       "0                                    Bruce Jay Friedman           English   \n",
       "1     Jim Abrahams (written for the screen by), Davi...           English   \n",
       "2            Nancy Meyers, Charles Shyer, Harvey Miller           English   \n",
       "3     Thomas Rickman (screenplay), Loretta Lynn (aut...           English   \n",
       "4     Hal Needham (characters created by), Robert L....  English, Spanish   \n",
       "...                                                 ...               ...   \n",
       "6021  Michal Englert (screenplay), Malgorzata Szumow...   Polish, Spanish   \n",
       "6022                                  Terron R. Parsons           English   \n",
       "6023  Patrick Godeau (screenplay), Sébastien Japriso...            French   \n",
       "6024                   Dorothy Tristan, Dorothy Tristan           English   \n",
       "6025  Stephen Davis, Dean Francis, Stephen Davis (play)           English   \n",
       "\n",
       "       Box_office          Country     Released  Runtime  imdbRating  \\\n",
       "0     101,500,000              USA  12 Dec 1980  111 min         6.8   \n",
       "1      83,400,000              USA  02 Jul 1980   88 min         7.8   \n",
       "2      69,800,000              USA  10 Oct 1980  109 min         6.1   \n",
       "3      79,900,000              USA  07 Mar 1980  124 min         7.5   \n",
       "4      66,100,000              USA  15 Aug 1980  100 min         5.1   \n",
       "...           ...              ...          ...      ...         ...   \n",
       "6021        2,457           Poland  06 Mar 2015   90 min         6.6   \n",
       "6022        1,668              USA  18 Mar 2016   92 min         2.9   \n",
       "6023        2,033  France, Belgium  18 Dec 2015   93 min         5.5   \n",
       "6024        1,711              USA  27 Aug 2015  110 min         7.2   \n",
       "6025        1,631        Australia  04 Mar 2015   93 min         5.7   \n",
       "\n",
       "                                                 Awards         Poster  \n",
       "0                                         1 nomination.  tt0081562.jpg  \n",
       "1     Nominated for 1 Golden Globe. Another 2 wins &...  tt0080339.jpg  \n",
       "2     Nominated for 3 Oscars. Another 1 win & 3 nomi...  tt0081375.jpg  \n",
       "3         Won 1 Oscar. Another 8 wins & 13 nominations.  tt0080549.jpg  \n",
       "4                                1 win & 4 nominations.  tt0081529.jpg  \n",
       "...                                                 ...            ...  \n",
       "6021                            6 wins & 4 nominations.  tt4358230.jpg  \n",
       "6022                                                NaN  tt2924352.jpg  \n",
       "6023                                                NaN  tt4159182.jpg  \n",
       "6024                                                NaN  tt2912776.jpg  \n",
       "6025                            8 wins & 3 nominations.  tt2241750.jpg  \n",
       "\n",
       "[6026 rows x 13 columns]"
      ]
     },
     "execution_count": 11,
     "metadata": {},
     "output_type": "execute_result"
    }
   ],
   "source": [
    "movie_df"
   ]
  },
  {
   "cell_type": "code",
   "execution_count": 43,
   "id": "e7803b9b",
   "metadata": {},
   "outputs": [
    {
     "name": "stdout",
     "output_type": "stream",
     "text": [
      "Number of directors : 3499\n",
      "Number of actors : 9956\n"
     ]
    }
   ],
   "source": [
    "unique_directors = set()\n",
    "unique_actors = set()\n",
    "\n",
    "for director_string in movie_df['Director']:\n",
    "    cleaned_string = director_string.strip('[]')  # Remove the square brackets\n",
    "    result_list = cleaned_string.split(',')  # Split the string using comma as a delimiter\n",
    "    for director in result_list:\n",
    "        unique_directors.add(director.strip())\n",
    "\n",
    "        \n",
    "for actor_string in movie_df['Actors']:\n",
    "    cleaned_string = actor_string.strip(\"[]\")  # Remove the square brackets\n",
    "    result_list = cleaned_string.split(\",\")  # Split the string using comma as a delimiter\n",
    "    for actor in result_list:\n",
    "        unique_actors.add(actor.strip())\n",
    "\n",
    "unique_actors = list(unique_actors) \n",
    "unique_directors = list(unique_directors)\n",
    "\n",
    "unique_actors = [actor.replace(\"'\", '') for actor in unique_actors][1::]\n",
    "unique_directors = [director.replace(\"'\", '') for director in unique_directors]\n",
    "\n",
    "print(f'Number of directors : {len(unique_directors)}')\n",
    "print(f'Number of actors : {len(unique_actors)}')"
   ]
  },
  {
   "cell_type": "code",
   "execution_count": 44,
   "id": "8e17daa3",
   "metadata": {},
   "outputs": [
    {
     "data": {
      "text/plain": [
       "['Jennette McCurdy',\n",
       " 'Jared Abrahamson',\n",
       " 'Steve Blum',\n",
       " 'Connie Britton',\n",
       " 'Tim Owen',\n",
       " 'Isabelle Fuhrman',\n",
       " 'Charles Adam',\n",
       " 'Maya Angelou',\n",
       " 'John Amos',\n",
       " 'Pierre Lebeau']"
      ]
     },
     "execution_count": 44,
     "metadata": {},
     "output_type": "execute_result"
    }
   ],
   "source": [
    "unique_actors[:10]"
   ]
  },
  {
   "cell_type": "markdown",
   "id": "6f55c8f2",
   "metadata": {},
   "source": [
    "**Create matrix**"
   ]
  },
  {
   "cell_type": "code",
   "execution_count": 46,
   "id": "983140cb",
   "metadata": {},
   "outputs": [
    {
     "ename": "KeyError",
     "evalue": "'['",
     "output_type": "error",
     "traceback": [
      "\u001b[1;31m---------------------------------------------------------------------------\u001b[0m",
      "\u001b[1;31mKeyError\u001b[0m                                  Traceback (most recent call last)",
      "Cell \u001b[1;32mIn[46], line 6\u001b[0m\n\u001b[0;32m      3\u001b[0m directors_dict \u001b[38;5;241m=\u001b[39m {director: i \u001b[38;5;28;01mfor\u001b[39;00m i, director \u001b[38;5;129;01min\u001b[39;00m \u001b[38;5;28menumerate\u001b[39m(unique_directors)}\n\u001b[0;32m      5\u001b[0m \u001b[38;5;66;03m# Create new column 'Actors_id'\u001b[39;00m\n\u001b[1;32m----> 6\u001b[0m movie_df[\u001b[38;5;124m'\u001b[39m\u001b[38;5;124mActors_id\u001b[39m\u001b[38;5;124m'\u001b[39m] \u001b[38;5;241m=\u001b[39m \u001b[43mmovie_df\u001b[49m\u001b[43m[\u001b[49m\u001b[38;5;124;43m'\u001b[39;49m\u001b[38;5;124;43mActors\u001b[39;49m\u001b[38;5;124;43m'\u001b[39;49m\u001b[43m]\u001b[49m\u001b[38;5;241;43m.\u001b[39;49m\u001b[43mapply\u001b[49m\u001b[43m(\u001b[49m\u001b[38;5;28;43;01mlambda\u001b[39;49;00m\u001b[43m \u001b[49m\u001b[43mx\u001b[49m\u001b[43m:\u001b[49m\u001b[43m \u001b[49m\u001b[43m[\u001b[49m\u001b[43mactors_dict\u001b[49m\u001b[43m[\u001b[49m\u001b[43mactor\u001b[49m\u001b[43m]\u001b[49m\u001b[43m \u001b[49m\u001b[38;5;28;43;01mfor\u001b[39;49;00m\u001b[43m \u001b[49m\u001b[43mactor\u001b[49m\u001b[43m \u001b[49m\u001b[38;5;129;43;01min\u001b[39;49;00m\u001b[43m \u001b[49m\u001b[43mx\u001b[49m\u001b[43m]\u001b[49m\u001b[43m)\u001b[49m\n\u001b[0;32m      7\u001b[0m movie_df[\u001b[38;5;124m'\u001b[39m\u001b[38;5;124mDirector_id\u001b[39m\u001b[38;5;124m'\u001b[39m] \u001b[38;5;241m=\u001b[39m movie_df[\u001b[38;5;124m'\u001b[39m\u001b[38;5;124mDirector\u001b[39m\u001b[38;5;124m'\u001b[39m]\u001b[38;5;241m.\u001b[39mapply(\u001b[38;5;28;01mlambda\u001b[39;00m x: [directors_dict[director] \u001b[38;5;28;01mfor\u001b[39;00m director \u001b[38;5;129;01min\u001b[39;00m x])\n\u001b[0;32m      9\u001b[0m movie_df \u001b[38;5;241m=\u001b[39m movie_df\u001b[38;5;241m.\u001b[39mreset_index()\n",
      "File \u001b[1;32m~\\miniconda3\\lib\\site-packages\\pandas\\core\\series.py:4357\u001b[0m, in \u001b[0;36mSeries.apply\u001b[1;34m(self, func, convert_dtype, args, **kwargs)\u001b[0m\n\u001b[0;32m   4247\u001b[0m \u001b[38;5;28;01mdef\u001b[39;00m \u001b[38;5;21mapply\u001b[39m(\n\u001b[0;32m   4248\u001b[0m     \u001b[38;5;28mself\u001b[39m,\n\u001b[0;32m   4249\u001b[0m     func: AggFuncType,\n\u001b[1;32m   (...)\u001b[0m\n\u001b[0;32m   4252\u001b[0m     \u001b[38;5;241m*\u001b[39m\u001b[38;5;241m*\u001b[39mkwargs,\n\u001b[0;32m   4253\u001b[0m ) \u001b[38;5;241m-\u001b[39m\u001b[38;5;241m>\u001b[39m FrameOrSeriesUnion:\n\u001b[0;32m   4254\u001b[0m     \u001b[38;5;124;03m\"\"\"\u001b[39;00m\n\u001b[0;32m   4255\u001b[0m \u001b[38;5;124;03m    Invoke function on values of Series.\u001b[39;00m\n\u001b[0;32m   4256\u001b[0m \n\u001b[1;32m   (...)\u001b[0m\n\u001b[0;32m   4355\u001b[0m \u001b[38;5;124;03m    dtype: float64\u001b[39;00m\n\u001b[0;32m   4356\u001b[0m \u001b[38;5;124;03m    \"\"\"\u001b[39;00m\n\u001b[1;32m-> 4357\u001b[0m     \u001b[38;5;28;01mreturn\u001b[39;00m \u001b[43mSeriesApply\u001b[49m\u001b[43m(\u001b[49m\u001b[38;5;28;43mself\u001b[39;49m\u001b[43m,\u001b[49m\u001b[43m \u001b[49m\u001b[43mfunc\u001b[49m\u001b[43m,\u001b[49m\u001b[43m \u001b[49m\u001b[43mconvert_dtype\u001b[49m\u001b[43m,\u001b[49m\u001b[43m \u001b[49m\u001b[43margs\u001b[49m\u001b[43m,\u001b[49m\u001b[43m \u001b[49m\u001b[43mkwargs\u001b[49m\u001b[43m)\u001b[49m\u001b[38;5;241;43m.\u001b[39;49m\u001b[43mapply\u001b[49m\u001b[43m(\u001b[49m\u001b[43m)\u001b[49m\n",
      "File \u001b[1;32m~\\miniconda3\\lib\\site-packages\\pandas\\core\\apply.py:1043\u001b[0m, in \u001b[0;36mSeriesApply.apply\u001b[1;34m(self)\u001b[0m\n\u001b[0;32m   1039\u001b[0m \u001b[38;5;28;01mif\u001b[39;00m \u001b[38;5;28misinstance\u001b[39m(\u001b[38;5;28mself\u001b[39m\u001b[38;5;241m.\u001b[39mf, \u001b[38;5;28mstr\u001b[39m):\n\u001b[0;32m   1040\u001b[0m     \u001b[38;5;66;03m# if we are a string, try to dispatch\u001b[39;00m\n\u001b[0;32m   1041\u001b[0m     \u001b[38;5;28;01mreturn\u001b[39;00m \u001b[38;5;28mself\u001b[39m\u001b[38;5;241m.\u001b[39mapply_str()\n\u001b[1;32m-> 1043\u001b[0m \u001b[38;5;28;01mreturn\u001b[39;00m \u001b[38;5;28;43mself\u001b[39;49m\u001b[38;5;241;43m.\u001b[39;49m\u001b[43mapply_standard\u001b[49m\u001b[43m(\u001b[49m\u001b[43m)\u001b[49m\n",
      "File \u001b[1;32m~\\miniconda3\\lib\\site-packages\\pandas\\core\\apply.py:1098\u001b[0m, in \u001b[0;36mSeriesApply.apply_standard\u001b[1;34m(self)\u001b[0m\n\u001b[0;32m   1092\u001b[0m         values \u001b[38;5;241m=\u001b[39m obj\u001b[38;5;241m.\u001b[39mastype(\u001b[38;5;28mobject\u001b[39m)\u001b[38;5;241m.\u001b[39m_values\n\u001b[0;32m   1093\u001b[0m         \u001b[38;5;66;03m# error: Argument 2 to \"map_infer\" has incompatible type\u001b[39;00m\n\u001b[0;32m   1094\u001b[0m         \u001b[38;5;66;03m# \"Union[Callable[..., Any], str, List[Union[Callable[..., Any], str]],\u001b[39;00m\n\u001b[0;32m   1095\u001b[0m         \u001b[38;5;66;03m# Dict[Hashable, Union[Union[Callable[..., Any], str],\u001b[39;00m\n\u001b[0;32m   1096\u001b[0m         \u001b[38;5;66;03m# List[Union[Callable[..., Any], str]]]]]\"; expected\u001b[39;00m\n\u001b[0;32m   1097\u001b[0m         \u001b[38;5;66;03m# \"Callable[[Any], Any]\"\u001b[39;00m\n\u001b[1;32m-> 1098\u001b[0m         mapped \u001b[38;5;241m=\u001b[39m \u001b[43mlib\u001b[49m\u001b[38;5;241;43m.\u001b[39;49m\u001b[43mmap_infer\u001b[49m\u001b[43m(\u001b[49m\n\u001b[0;32m   1099\u001b[0m \u001b[43m            \u001b[49m\u001b[43mvalues\u001b[49m\u001b[43m,\u001b[49m\n\u001b[0;32m   1100\u001b[0m \u001b[43m            \u001b[49m\u001b[43mf\u001b[49m\u001b[43m,\u001b[49m\u001b[43m  \u001b[49m\u001b[38;5;66;43;03m# type: ignore[arg-type]\u001b[39;49;00m\n\u001b[0;32m   1101\u001b[0m \u001b[43m            \u001b[49m\u001b[43mconvert\u001b[49m\u001b[38;5;241;43m=\u001b[39;49m\u001b[38;5;28;43mself\u001b[39;49m\u001b[38;5;241;43m.\u001b[39;49m\u001b[43mconvert_dtype\u001b[49m\u001b[43m,\u001b[49m\n\u001b[0;32m   1102\u001b[0m \u001b[43m        \u001b[49m\u001b[43m)\u001b[49m\n\u001b[0;32m   1104\u001b[0m \u001b[38;5;28;01mif\u001b[39;00m \u001b[38;5;28mlen\u001b[39m(mapped) \u001b[38;5;129;01mand\u001b[39;00m \u001b[38;5;28misinstance\u001b[39m(mapped[\u001b[38;5;241m0\u001b[39m], ABCSeries):\n\u001b[0;32m   1105\u001b[0m     \u001b[38;5;66;03m# GH 25959 use pd.array instead of tolist\u001b[39;00m\n\u001b[0;32m   1106\u001b[0m     \u001b[38;5;66;03m# so extension arrays can be used\u001b[39;00m\n\u001b[0;32m   1107\u001b[0m     \u001b[38;5;28;01mreturn\u001b[39;00m obj\u001b[38;5;241m.\u001b[39m_constructor_expanddim(pd_array(mapped), index\u001b[38;5;241m=\u001b[39mobj\u001b[38;5;241m.\u001b[39mindex)\n",
      "File \u001b[1;32m~\\miniconda3\\lib\\site-packages\\pandas\\_libs\\lib.pyx:2859\u001b[0m, in \u001b[0;36mpandas._libs.lib.map_infer\u001b[1;34m()\u001b[0m\n",
      "Cell \u001b[1;32mIn[46], line 6\u001b[0m, in \u001b[0;36m<lambda>\u001b[1;34m(x)\u001b[0m\n\u001b[0;32m      3\u001b[0m directors_dict \u001b[38;5;241m=\u001b[39m {director: i \u001b[38;5;28;01mfor\u001b[39;00m i, director \u001b[38;5;129;01min\u001b[39;00m \u001b[38;5;28menumerate\u001b[39m(unique_directors)}\n\u001b[0;32m      5\u001b[0m \u001b[38;5;66;03m# Create new column 'Actors_id'\u001b[39;00m\n\u001b[1;32m----> 6\u001b[0m movie_df[\u001b[38;5;124m'\u001b[39m\u001b[38;5;124mActors_id\u001b[39m\u001b[38;5;124m'\u001b[39m] \u001b[38;5;241m=\u001b[39m movie_df[\u001b[38;5;124m'\u001b[39m\u001b[38;5;124mActors\u001b[39m\u001b[38;5;124m'\u001b[39m]\u001b[38;5;241m.\u001b[39mapply(\u001b[38;5;28;01mlambda\u001b[39;00m x: [actors_dict[actor] \u001b[38;5;28;01mfor\u001b[39;00m actor \u001b[38;5;129;01min\u001b[39;00m x])\n\u001b[0;32m      7\u001b[0m movie_df[\u001b[38;5;124m'\u001b[39m\u001b[38;5;124mDirector_id\u001b[39m\u001b[38;5;124m'\u001b[39m] \u001b[38;5;241m=\u001b[39m movie_df[\u001b[38;5;124m'\u001b[39m\u001b[38;5;124mDirector\u001b[39m\u001b[38;5;124m'\u001b[39m]\u001b[38;5;241m.\u001b[39mapply(\u001b[38;5;28;01mlambda\u001b[39;00m x: [directors_dict[director] \u001b[38;5;28;01mfor\u001b[39;00m director \u001b[38;5;129;01min\u001b[39;00m x])\n\u001b[0;32m      9\u001b[0m movie_df \u001b[38;5;241m=\u001b[39m movie_df\u001b[38;5;241m.\u001b[39mreset_index()\n",
      "Cell \u001b[1;32mIn[46], line 6\u001b[0m, in \u001b[0;36m<listcomp>\u001b[1;34m(.0)\u001b[0m\n\u001b[0;32m      3\u001b[0m directors_dict \u001b[38;5;241m=\u001b[39m {director: i \u001b[38;5;28;01mfor\u001b[39;00m i, director \u001b[38;5;129;01min\u001b[39;00m \u001b[38;5;28menumerate\u001b[39m(unique_directors)}\n\u001b[0;32m      5\u001b[0m \u001b[38;5;66;03m# Create new column 'Actors_id'\u001b[39;00m\n\u001b[1;32m----> 6\u001b[0m movie_df[\u001b[38;5;124m'\u001b[39m\u001b[38;5;124mActors_id\u001b[39m\u001b[38;5;124m'\u001b[39m] \u001b[38;5;241m=\u001b[39m movie_df[\u001b[38;5;124m'\u001b[39m\u001b[38;5;124mActors\u001b[39m\u001b[38;5;124m'\u001b[39m]\u001b[38;5;241m.\u001b[39mapply(\u001b[38;5;28;01mlambda\u001b[39;00m x: [\u001b[43mactors_dict\u001b[49m\u001b[43m[\u001b[49m\u001b[43mactor\u001b[49m\u001b[43m]\u001b[49m \u001b[38;5;28;01mfor\u001b[39;00m actor \u001b[38;5;129;01min\u001b[39;00m x])\n\u001b[0;32m      7\u001b[0m movie_df[\u001b[38;5;124m'\u001b[39m\u001b[38;5;124mDirector_id\u001b[39m\u001b[38;5;124m'\u001b[39m] \u001b[38;5;241m=\u001b[39m movie_df[\u001b[38;5;124m'\u001b[39m\u001b[38;5;124mDirector\u001b[39m\u001b[38;5;124m'\u001b[39m]\u001b[38;5;241m.\u001b[39mapply(\u001b[38;5;28;01mlambda\u001b[39;00m x: [directors_dict[director] \u001b[38;5;28;01mfor\u001b[39;00m director \u001b[38;5;129;01min\u001b[39;00m x])\n\u001b[0;32m      9\u001b[0m movie_df \u001b[38;5;241m=\u001b[39m movie_df\u001b[38;5;241m.\u001b[39mreset_index()\n",
      "\u001b[1;31mKeyError\u001b[0m: '['"
     ]
    }
   ],
   "source": [
    "# Create dictionary of actors and their IDs\n",
    "actors_dict = {actor: i for i, actor in enumerate(unique_actors)}\n",
    "directors_dict = {director: i for i, director in enumerate(unique_directors)}\n",
    "\n",
    "# Create new column 'Actors_id'\n",
    "movie_df['Actors_id'] = movie_df['Actors'].apply(lambda x: [actors_dict[actor] for actor in x])\n",
    "movie_df['Director_id'] = movie_df['Director'].apply(lambda x: [directors_dict[director] for director in x])\n",
    "\n",
    "movie_df = movie_df.reset_index()"
   ]
  },
  {
   "cell_type": "code",
   "execution_count": null,
   "id": "e9ecac76",
   "metadata": {},
   "outputs": [],
   "source": [
    "actor_to_actor_matrix = np.zeros((len(unique_actors),len(unique_actors)))\n",
    "director_to_actor_matrix = np.zeros((len(unique_directors),len(unique_actors)))"
   ]
  },
  {
   "cell_type": "code",
   "execution_count": null,
   "id": "375e5843",
   "metadata": {},
   "outputs": [],
   "source": [
    "for i in range(len(movie_df)):\n",
    "    for j in range(len(movie_df['Director_id'][i])-1):\n",
    "        for k in range(j+1,len(movie_df['Actors_id'][i])-1):\n",
    "            director_to_actor_matrix[movie_df['Director_id'][i][j]][movie_df['Actors_id'][i][k]] = director_to_actor_matrix[movie_df['Director_id'][i][j]][movie_df['Actors_id'][i][k]]+ 1\n"
   ]
  },
  {
   "cell_type": "code",
   "execution_count": null,
   "id": "12ba2212",
   "metadata": {},
   "outputs": [],
   "source": [
    "for i in range(len(movie_df)):\n",
    "    for j in range(len(movie_df['Actors_id'][i])-1):\n",
    "        for k in range(j+1,len(movie_df['Actors_id'][i])-1):\n",
    "            actor_to_actor_matrix[movie_df['Actors_id'][i][j]][movie_df['Actors_id'][i][k]] = actor_to_actor_matrix[movie_df['Actors_id'][i][j]][movie_df['Actors_id'][i][k]]+ 1\n",
    "            actor_to_actor_matrix[movie_df['Actors_id'][i][k]][movie_df['Actors_id'][i][j]] = actor_to_actor_matrix[movie_df['Actors_id'][i][k]][movie_df['Actors_id'][i][j]]+ 1"
   ]
  },
  {
   "cell_type": "code",
   "execution_count": null,
   "id": "470e6e3f",
   "metadata": {},
   "outputs": [],
   "source": [
    "np.max(actor_to_actor_matrix)"
   ]
  },
  {
   "cell_type": "markdown",
   "id": "1301ea7d",
   "metadata": {},
   "source": [
    "# Find movie with closest cast "
   ]
  },
  {
   "cell_type": "code",
   "execution_count": null,
   "id": "09770783",
   "metadata": {},
   "outputs": [],
   "source": [
    "def intersection(lst1, lst2):\n",
    "    return len(list(set(lst1) & set(lst2)))\n",
    "\n",
    "def actor_intersection(lst1, lst2):\n",
    "    return list(set(lst1) & set(lst2))\n",
    "\n",
    "# Define a function to find the movie with the greatest intersection of actors\n",
    "def find_movie_with_greatest_intersection(movie_name, df):\n",
    "    movie = df[df['Title'] == movie_name]  # Get the movie with the given title\n",
    "    movie_actors = movie['Actors'].iloc[0]  # Get the list of actors in the movie\n",
    "    movie_index = movie.index[0]  # Get the index of the movie\n",
    "    \n",
    "    # Find the intersection of the movie actors with each other movie in the dataframe\n",
    "    intersections = []\n",
    "    for i in df.index:\n",
    "        if i != movie_index:\n",
    "            intersection_value = intersection(movie_actors, df.loc[i, 'Actors'])\n",
    "            if intersection_value:\n",
    "                intersections.append((intersection_value,i,actor_intersection(movie_actors, df.loc[i, 'Actors'])))\n",
    "    \n",
    "    max_intersect = max(intersections, key=lambda tup: tup[0], default=(0,0))\n",
    "    if(max_intersect[0] >1 ):\n",
    "        return (df['Title'].loc[max_intersect[1]],max_intersect[2])\n",
    "    else:\n",
    "        return \"Sorry, no movie with close cast\""
   ]
  },
  {
   "cell_type": "markdown",
   "id": "59b5facb",
   "metadata": {},
   "source": [
    "# Find actor/director that worked with most actors and on most movies"
   ]
  },
  {
   "cell_type": "code",
   "execution_count": null,
   "id": "b32f6dde",
   "metadata": {},
   "outputs": [],
   "source": [
    "def get_n_rows_with_most_ones(M, n):\n",
    "    # Calculate the number of 1s in each row\n",
    "    row_sums = np.sum(M, axis=1)\n",
    "    # Sort the row indices in descending order based on their number of 1s\n",
    "    sorted_rows = np.argsort(row_sums)[::-1]\n",
    "    # Return the top n rows with the most 1s\n",
    "    return sorted_rows[:n]\n",
    "\n",
    "def most_common_values(df, column_name, n):\n",
    "    return df[column_name].explode().value_counts().nlargest(n).index.tolist()\n"
   ]
  },
  {
   "cell_type": "code",
   "execution_count": null,
   "id": "254b4654",
   "metadata": {
    "scrolled": true
   },
   "outputs": [],
   "source": [
    "directors_most_actors = []\n",
    "for actor_id in list(get_n_rows_with_most_ones(director_to_actor_matrix,100)):\n",
    "    directors_most_actors.append(unique_directors[actor_id])\n",
    "    \n",
    "directors_most_actors[:10]"
   ]
  },
  {
   "cell_type": "code",
   "execution_count": null,
   "id": "047a837e",
   "metadata": {
    "scrolled": true
   },
   "outputs": [],
   "source": [
    "directors_most_movies = []\n",
    "directors_most_movies = most_common_values(movie_df,'Director',100)\n",
    "\n",
    "directors_most_movies[:10]"
   ]
  },
  {
   "cell_type": "code",
   "execution_count": null,
   "id": "6956a57b",
   "metadata": {},
   "outputs": [],
   "source": [
    "actors_most_movies = []\n",
    "actors_most_movies = most_common_values(movie_df,'Actors',500)\n",
    "\n",
    "actors_most_movies[:10]"
   ]
  },
  {
   "cell_type": "code",
   "execution_count": null,
   "id": "2f7793e9",
   "metadata": {},
   "outputs": [],
   "source": [
    "actors_most_actors = []\n",
    "for actor_id in list(get_n_rows_with_most_ones(actor_to_actor_matrix,500)):\n",
    "    actors_most_actors.append(unique_actors[actor_id])\n",
    "    \n",
    "actors_most_actors[:10]"
   ]
  },
  {
   "cell_type": "markdown",
   "id": "0e7893ab",
   "metadata": {},
   "source": [
    "# Filtered Dataset with only movies with famous actor or sufficient box office"
   ]
  },
  {
   "cell_type": "code",
   "execution_count": null,
   "id": "83d34165",
   "metadata": {},
   "outputs": [],
   "source": [
    "movie_df['Box_office'] = movie_df['Box_office'].fillna(0).str.replace(',', '')\n",
    "movie_df['Box_office'] = movie_df['Box_office'].astype(str).apply(lambda x: int(x) if x.isnumeric() else 0)\n",
    "\n",
    "threshold = 100000000 # replace with your desired value\n",
    "\n",
    "filtered_df = movie_df[movie_df['Actors'].apply(lambda x: any(item for item in x if item in actors_most_actors)) | (movie_df['Box_office'] >= threshold) | movie_df['Director'].apply(lambda x: any(item for item in x if item in directors_most_movies))].reset_index()\n",
    "filtered_df = filtered_df.drop(['index', 'level_0'], axis=1) \n"
   ]
  },
  {
   "cell_type": "code",
   "execution_count": null,
   "id": "36f3a788",
   "metadata": {},
   "outputs": [],
   "source": [
    "\n",
    "threshold = 100000000 # replace with your desired value\n",
    "\n",
    "filtered_df = movie_df[movie_df['Actors'].apply(lambda x: any(item for item in x if item in actors_most_actors)) | (movie_df['Box_office'] >= threshold) | movie_df['Director'].apply(lambda x: any(item for item in x if item in directors_most_movies))].reset_index()\n",
    "filtered_df = filtered_df.drop(['index', 'level_0'], axis=1) "
   ]
  },
  {
   "cell_type": "markdown",
   "id": "b3aa62fb",
   "metadata": {},
   "source": [
    "# Query"
   ]
  },
  {
   "cell_type": "code",
   "execution_count": null,
   "id": "011a1272",
   "metadata": {
    "scrolled": true
   },
   "outputs": [],
   "source": [
    "def display_row(df, row_name, name):\n",
    "    display(filtered_df[filtered_df[row_name].apply(lambda x:name in x)])"
   ]
  },
  {
   "cell_type": "code",
   "execution_count": null,
   "id": "bc26615e",
   "metadata": {},
   "outputs": [],
   "source": [
    "display_row(filtered_df, \"Title\", \"Ocean\")"
   ]
  },
  {
   "cell_type": "code",
   "execution_count": null,
   "id": "4f3e25b6",
   "metadata": {},
   "outputs": [],
   "source": [
    "def display_actor(df, actor):\n",
    "    display(filtered_df[filtered_df['Actors'].apply(lambda x: actor in x)])"
   ]
  },
  {
   "cell_type": "code",
   "execution_count": null,
   "id": "f445748f",
   "metadata": {},
   "outputs": [],
   "source": [
    "display_actor(filtered_df, \"Emma Watson\")"
   ]
  },
  {
   "cell_type": "code",
   "execution_count": null,
   "id": "2c1a0810",
   "metadata": {
    "scrolled": true
   },
   "outputs": [],
   "source": [
    "filtered_df[filtered_df['Director'].apply(lambda x: \"Quentin Tarantino\" in x)]\n"
   ]
  },
  {
   "cell_type": "code",
   "execution_count": null,
   "id": "57db0607",
   "metadata": {
    "scrolled": true
   },
   "outputs": [],
   "source": [
    "filtered_df"
   ]
  },
  {
   "cell_type": "code",
   "execution_count": null,
   "id": "da97b3ad",
   "metadata": {},
   "outputs": [],
   "source": [
    "filtered_unique_actors = set()\n",
    "for actors_list in filtered_df['Actors']:\n",
    "    for actor in actors_list:\n",
    "        filtered_unique_actors.add(actor)\n",
    "        \n",
    "filter_unique_actors = list(filtered_unique_actors)"
   ]
  },
  {
   "cell_type": "code",
   "execution_count": null,
   "id": "f843f9ae",
   "metadata": {},
   "outputs": [],
   "source": []
  }
 ],
 "metadata": {
  "kernelspec": {
   "display_name": "Python 3 (ipykernel)",
   "language": "python",
   "name": "python3"
  },
  "language_info": {
   "codemirror_mode": {
    "name": "ipython",
    "version": 3
   },
   "file_extension": ".py",
   "mimetype": "text/x-python",
   "name": "python",
   "nbconvert_exporter": "python",
   "pygments_lexer": "ipython3",
   "version": "3.8.16"
  }
 },
 "nbformat": 4,
 "nbformat_minor": 5
}
