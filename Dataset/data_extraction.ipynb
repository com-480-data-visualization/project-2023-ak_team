{
 "cells": [
  {
   "cell_type": "code",
   "execution_count": 1,
   "metadata": {},
   "outputs": [],
   "source": [
    "import json\n",
    "import pandas as pd\n",
    "import re\n",
    "import networkx as nx\n",
    "import matplotlib.pyplot as plt\n",
    "import numpy as np\n",
    "from tqdm import tqdm\n",
    "\n",
    "import os\n",
    "from IPython.display import display, Image"
   ]
  },
  {
   "cell_type": "code",
   "execution_count": 7,
   "metadata": {},
   "outputs": [
    {
     "name": "stderr",
     "output_type": "stream",
     "text": [
      "100%|██████████████████████████████████████████████████████████████████████████████████| 36/36 [00:30<00:00,  1.20it/s]\n"
     ]
    }
   ],
   "source": [
    "year =  [str(i) for i in range(1980, 2016) ]\n",
    "\n",
    "df = pd.DataFrame()\n",
    "\n",
    "for y in tqdm(year):\n",
    "    file_path = 'movie_data_per_year/'+y+'.txt'  # Replace with the path to your text file\n",
    "\n",
    "\n",
    "        \n",
    "    input_file = file_path  # Replace with the path to your input file\n",
    "    output_file = file_path  # Replace with the path to your output file\n",
    "\n",
    "        \n",
    "    \n",
    "    with open(file_path, 'r', encoding='utf-8') as f:\n",
    "        lines = f.readlines()\n",
    "\n",
    "        \n",
    "    \n",
    "    jump = 0\n",
    "    \n",
    "    while not(\"}\" in lines[jump]):\n",
    "        jump += 1\n",
    "        \n",
    "    jump += 1\n",
    "        \n",
    "        \n",
    "    for i in range(0, len(lines), jump):\n",
    "        test_text = lines[i: i+jump]\n",
    "        fin_text  = ''.join(test_text)\n",
    "        \n",
    "\n",
    "        cleaned_text = re.sub(r'ObjectId\\(\"([^\"]+)\"\\)', r'\"\\1\"', fin_text)\n",
    "\n",
    "        # Parse the text as a JSON object\n",
    "        json_obj = json.loads(cleaned_text)\n",
    "        # Convert the JSON object to a pandas DataFrame\n",
    "        json_obj[\"imdbID\"] += \".jpg\"\n",
    "        df = df.append(json_obj, ignore_index = True)\n",
    "\n",
    "df = df.drop(\"Poster\", axis = 1)\n",
    "df = df.rename(columns={'imdbID': 'Poster'})"
   ]
  },
  {
   "cell_type": "code",
   "execution_count": 8,
   "metadata": {},
   "outputs": [],
   "source": [
    "df.to_csv(\"complete_data_movie.csv\", encoding='utf-8', index=False)"
   ]
  },
  {
   "cell_type": "code",
   "execution_count": 128,
   "metadata": {},
   "outputs": [],
   "source": [
    "df_movie = pd.read_csv(\"complete_data_movie.csv\")"
   ]
  },
  {
   "cell_type": "code",
   "execution_count": 129,
   "metadata": {
    "scrolled": true
   },
   "outputs": [
    {
     "data": {
      "text/html": [
       "<div>\n",
       "<style scoped>\n",
       "    .dataframe tbody tr th:only-of-type {\n",
       "        vertical-align: middle;\n",
       "    }\n",
       "\n",
       "    .dataframe tbody tr th {\n",
       "        vertical-align: top;\n",
       "    }\n",
       "\n",
       "    .dataframe thead th {\n",
       "        text-align: right;\n",
       "    }\n",
       "</style>\n",
       "<table border=\"1\" class=\"dataframe\">\n",
       "  <thead>\n",
       "    <tr style=\"text-align: right;\">\n",
       "      <th></th>\n",
       "      <th>Title</th>\n",
       "      <th>Genre</th>\n",
       "      <th>Actors</th>\n",
       "      <th>Director</th>\n",
       "      <th>Writer</th>\n",
       "      <th>Language</th>\n",
       "      <th>Box_office</th>\n",
       "      <th>Country</th>\n",
       "      <th>Released</th>\n",
       "      <th>Runtime</th>\n",
       "      <th>imdbRating</th>\n",
       "      <th>Awards</th>\n",
       "      <th>Poster</th>\n",
       "    </tr>\n",
       "  </thead>\n",
       "  <tbody>\n",
       "    <tr>\n",
       "      <th>0</th>\n",
       "      <td>Stir Crazy</td>\n",
       "      <td>Comedy, Crime</td>\n",
       "      <td>[Gene Wilder, Richard Pryor, Georg Stanford Br...</td>\n",
       "      <td>[Sidney Poitier]</td>\n",
       "      <td>Bruce Jay Friedman</td>\n",
       "      <td>English</td>\n",
       "      <td>101,500,000</td>\n",
       "      <td>USA</td>\n",
       "      <td>12 Dec 1980</td>\n",
       "      <td>111 min</td>\n",
       "      <td>6.8</td>\n",
       "      <td>1 nomination.</td>\n",
       "      <td>tt0081562.jpg</td>\n",
       "    </tr>\n",
       "    <tr>\n",
       "      <th>1</th>\n",
       "      <td>Airplane!</td>\n",
       "      <td>Comedy</td>\n",
       "      <td>[Kareem Abdul-Jabbar, Lloyd Bridges, Peter Gra...</td>\n",
       "      <td>[Jim Abrahams, David Zucker, Jerry Zucker]</td>\n",
       "      <td>Jim Abrahams (written for the screen by), Davi...</td>\n",
       "      <td>English</td>\n",
       "      <td>83,400,000</td>\n",
       "      <td>USA</td>\n",
       "      <td>02 Jul 1980</td>\n",
       "      <td>88 min</td>\n",
       "      <td>7.8</td>\n",
       "      <td>Nominated for 1 Golden Globe. Another 2 wins &amp;...</td>\n",
       "      <td>tt0080339.jpg</td>\n",
       "    </tr>\n",
       "  </tbody>\n",
       "</table>\n",
       "</div>"
      ],
      "text/plain": [
       "        Title          Genre  \\\n",
       "0  Stir Crazy  Comedy, Crime   \n",
       "1   Airplane!         Comedy   \n",
       "\n",
       "                                              Actors  \\\n",
       "0  [Gene Wilder, Richard Pryor, Georg Stanford Br...   \n",
       "1  [Kareem Abdul-Jabbar, Lloyd Bridges, Peter Gra...   \n",
       "\n",
       "                                     Director  \\\n",
       "0                            [Sidney Poitier]   \n",
       "1  [Jim Abrahams, David Zucker, Jerry Zucker]   \n",
       "\n",
       "                                              Writer Language   Box_office  \\\n",
       "0                                 Bruce Jay Friedman  English  101,500,000   \n",
       "1  Jim Abrahams (written for the screen by), Davi...  English   83,400,000   \n",
       "\n",
       "  Country     Released  Runtime  imdbRating  \\\n",
       "0     USA  12 Dec 1980  111 min         6.8   \n",
       "1     USA  02 Jul 1980   88 min         7.8   \n",
       "\n",
       "                                              Awards         Poster  \n",
       "0                                      1 nomination.  tt0081562.jpg  \n",
       "1  Nominated for 1 Golden Globe. Another 2 wins &...  tt0080339.jpg  "
      ]
     },
     "execution_count": 129,
     "metadata": {},
     "output_type": "execute_result"
    }
   ],
   "source": [
    "#only keep rows with movie type (remove series and games)\n",
    "df_movie = df_movie[df_movie[\"Type\"] == \"movie\"]\n",
    "\n",
    "\n",
    "# changes actors and directors to lists and remove useless columns (id, Rated, imdbVotes, Response, type, Metascore)\n",
    "df_movie['Actors'] = df_movie['Actors'].map(lambda x: x.split(', ') if isinstance(x, str) else np.nan)\n",
    "df_movie['Director'] = df_movie['Director'].fillna('').apply(lambda x: [director.strip() for director in x.split(',')])\n",
    "df_movie = df_movie[['Title','Genre', 'Actors','Director','Writer','Language','Box_office','Country','Released','Runtime','imdbRating','Awards', 'Poster']]\n",
    "\n",
    "#drop cols with no actors / genre / poster\n",
    "df_movie = df_movie.dropna(subset=['Actors','Genre','Poster', 'Released', 'imdbRating', 'Box_office'])\n",
    "\n",
    "df_movie[0:2]"
   ]
  },
  {
   "cell_type": "code",
   "execution_count": 130,
   "metadata": {},
   "outputs": [],
   "source": [
    "actor_df = pd.read_csv(\"actorfilms.csv\") #to update the actors list \n"
   ]
  },
  {
   "cell_type": "code",
   "execution_count": 131,
   "metadata": {},
   "outputs": [
    {
     "name": "stderr",
     "output_type": "stream",
     "text": [
      "100%|██████████████████████████████████████████████████████████████████████████████| 6012/6012 [05:14<00:00, 19.09it/s]\n"
     ]
    }
   ],
   "source": [
    "def get_actors_by_film(df, film, year):\n",
    "    return list(df[(df[\"Film\"] == film) & (df[\"Year\"] == year)][\"Actor\"].values)\n",
    "\n",
    "\n",
    "same_title = []\n",
    "\n",
    "for title in tqdm(df_movie[\"Title\"].unique()):\n",
    "    bulk_year = int(df_movie[df_movie['Title'] == title][\"Released\"].values[0][-4:])\n",
    "    \n",
    "    if title in actor_df[actor_df[\"Film\"] == title][\"Film\"].unique():\n",
    "        \n",
    "        for upt_year in actor_df[actor_df[\"Film\"] == title][\"Year\"].unique():\n",
    "        \n",
    "            if abs(bulk_year - upt_year) < 2:\n",
    "                title_index = df_movie[(df_movie[\"Title\"] == title) & (df_movie[\"Released\"].str.contains(str(bulk_year)))].index[0]\n",
    "                df_movie.at[title_index, 'Actors'] = get_actors_by_film(actor_df, title, bulk_year)\n",
    "\n",
    "            else:\n",
    "                    \n",
    "                new_row = {\"Title\": title, \n",
    "                           \"Year_bulk\": [bulk_year],\n",
    "                           \"Year_upt\": [upt_year]\n",
    "                          }\n",
    "                same_title.append(new_row)\n"
   ]
  },
  {
   "cell_type": "code",
   "execution_count": 142,
   "metadata": {},
   "outputs": [],
   "source": [
    "df_movie.to_csv(\"complete_data_movie_with_correct_actor.csv\", encoding='utf-8', index=False)\n"
   ]
  },
  {
   "cell_type": "code",
   "execution_count": 9,
   "metadata": {},
   "outputs": [],
   "source": [
    "t = {\n",
    "    1: \n",
    "        {\n",
    "            2: [10], \n",
    "            3: [11], \n",
    "            4: [12], \n",
    "            'Own_movies': [10,11,12]\n",
    "        }\n",
    "}"
   ]
  },
  {
   "cell_type": "code",
   "execution_count": 10,
   "metadata": {},
   "outputs": [],
   "source": [
    "actors_dict = {\"Brad Pitt\": 1, \"Matt Damon\": 2, \"Leo\": 3, \"Jean\": 4}\n",
    "movies_dict = {\"f1\": 10, \"f2\": 11, \"f3\": 12}"
   ]
  },
  {
   "cell_type": "code",
   "execution_count": 35,
   "metadata": {},
   "outputs": [],
   "source": [
    "def get_actor(name, info_dict):\n",
    "    actor_id = actors_dict.get(name)\n",
    "    played_with = list(info_dict.get(actor_id).keys())[:-1]\n",
    "    shared_movies = info_dict.get(actor_id).get(\"Own_movies\")\n",
    "\n",
    "    return info_dict[actor_id], played_with,shared_movies\n",
    "    "
   ]
  },
  {
   "cell_type": "code",
   "execution_count": 36,
   "metadata": {},
   "outputs": [
    {
     "data": {
      "text/plain": [
       "({2: [10], 3: [11], 4: [12], 'Own_movies': [10, 11, 12]},\n",
       " [2, 3, 4],\n",
       " [10, 11, 12])"
      ]
     },
     "execution_count": 36,
     "metadata": {},
     "output_type": "execute_result"
    }
   ],
   "source": [
    "get_actor(\"Brad Pitt\", t)"
   ]
  },
  {
   "cell_type": "code",
   "execution_count": null,
   "metadata": {},
   "outputs": [],
   "source": [
    " import json\n",
    "with open('result.json', 'w') as fp:\n",
    "    json.dump(sample, fp)"
   ]
  },
  {
   "cell_type": "code",
   "execution_count": null,
   "metadata": {},
   "outputs": [],
   "source": []
  }
 ],
 "metadata": {
  "kernelspec": {
   "display_name": "Python 3 (ipykernel)",
   "language": "python",
   "name": "python3"
  },
  "language_info": {
   "codemirror_mode": {
    "name": "ipython",
    "version": 3
   },
   "file_extension": ".py",
   "mimetype": "text/x-python",
   "name": "python",
   "nbconvert_exporter": "python",
   "pygments_lexer": "ipython3",
   "version": "3.8.16"
  }
 },
 "nbformat": 4,
 "nbformat_minor": 4
}
