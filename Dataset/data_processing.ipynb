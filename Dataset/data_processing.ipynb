{
 "cells": [
  {
   "cell_type": "code",
   "execution_count": 76,
   "id": "8a45832c",
   "metadata": {},
   "outputs": [],
   "source": [
    "import pandas as pd\n",
    "import numpy as np\n",
    "from tqdm import tqdm\n",
    "import ast\n",
    "import os\n",
    "from IPython.display import display, Image"
   ]
  },
  {
   "cell_type": "code",
   "execution_count": 2,
   "id": "e3d3555b",
   "metadata": {},
   "outputs": [],
   "source": [
    "def year_from_title(dataframe, title):\n",
    "    df_row = dataframe[dataframe['Title'] == title]\n",
    "    year = df_row['Released'].to_list()\n",
    "    \n",
    "    if len(year) == 0:\n",
    "        print(\"The movie is not in the dataset or has a different name\")\n",
    "        return 0\n",
    "    \n",
    "    return int(year[0][-4:])\n",
    "\n",
    "def get_poster_id(dataframe, title):\n",
    "    df_row = dataframe[dataframe['Title'] == title]\n",
    "    poster_id = df_row[\"Poster\"].to_list()\n",
    "    return poster_id[0]\n",
    "\n",
    "def show_image(dataframe, movie_title):\n",
    "    \n",
    "    year = str(year_from_title(dataframe, movie_title))\n",
    "    \n",
    "    if year == \"0\":\n",
    "        return 0\n",
    "    \n",
    "    poster_id = get_poster_id(dataframe, movie_title)\n",
    "    \n",
    "    image_directory = \"movie_poster_per_year/\"+year\n",
    "\n",
    "    # Get a list of all JPEG files in the directory\n",
    "    image_files = [f for f in os.listdir(image_directory) if f == poster_id]\n",
    "\n",
    "    for image_file in image_files:\n",
    "        image_path = os.path.join(image_directory, image_file)\n",
    "        display(Image(filename=image_path))"
   ]
  },
  {
   "cell_type": "markdown",
   "id": "90bd662f",
   "metadata": {},
   "source": [
    "**Take data from csv and filter useful information**"
   ]
  },
  {
   "cell_type": "code",
   "execution_count": 75,
   "id": "f26e7c3c",
   "metadata": {},
   "outputs": [],
   "source": [
    "movie_df = pd.read_csv(\"complete_data_movie_with_correct_actor.csv\") "
   ]
  },
  {
   "cell_type": "code",
   "execution_count": 77,
   "id": "93feeece",
   "metadata": {},
   "outputs": [],
   "source": [
    "movie_df[\"Actors\"] = movie_df[\"Actors\"].map(lambda x: ast.literal_eval(x))\n",
    "movie_df[\"Director\"] = movie_df[\"Director\"].map(lambda x: ast.literal_eval(x))"
   ]
  },
  {
   "cell_type": "code",
   "execution_count": 78,
   "id": "e7803b9b",
   "metadata": {},
   "outputs": [
    {
     "name": "stdout",
     "output_type": "stream",
     "text": [
      "Number of directors : 3499\n",
      "Number of actors : 9956\n"
     ]
    }
   ],
   "source": [
    "unique_directors = set()\n",
    "unique_actors = set()\n",
    "\n",
    "for director_list in movie_df['Director']:\n",
    "    for director in director_list:\n",
    "        unique_directors.add(director)\n",
    "        \n",
    "for actors_list in movie_df['Actors']:\n",
    "    for actor in actors_list:\n",
    "        unique_actors.add(actor.strip())\n",
    "\n",
    "unique_actors = list(unique_actors) \n",
    "unique_directors = list(unique_directors)\n",
    "\n",
    "print(f'Number of directors : {len(unique_directors)}')\n",
    "print(f'Number of actors : {len(unique_actors)}')"
   ]
  },
  {
   "cell_type": "markdown",
   "id": "6f55c8f2",
   "metadata": {},
   "source": [
    "**Create matrix**"
   ]
  },
  {
   "cell_type": "code",
   "execution_count": 79,
   "id": "983140cb",
   "metadata": {},
   "outputs": [],
   "source": [
    "# Create dictionary of actors and their IDs\n",
    "actors_dict = {actor: i for i, actor in enumerate(unique_actors)}\n",
    "directors_dict = {director: i for i, director in enumerate(unique_directors)}\n",
    "\n",
    "# Create new column 'Actors_id'\n",
    "movie_df['Actors_id'] = movie_df['Actors'].apply(lambda x: [actors_dict[actor] for actor in x])\n",
    "movie_df['Director_id'] = movie_df['Director'].apply(lambda x: [directors_dict[director] for director in x])\n",
    "\n",
    "movie_df = movie_df.reset_index()"
   ]
  },
  {
   "cell_type": "code",
   "execution_count": 80,
   "id": "e9ecac76",
   "metadata": {},
   "outputs": [],
   "source": [
    "actor_to_actor_matrix = np.zeros((len(unique_actors),len(unique_actors)))\n",
    "director_to_actor_matrix = np.zeros((len(unique_directors),len(unique_actors)))"
   ]
  },
  {
   "cell_type": "code",
   "execution_count": 81,
   "id": "375e5843",
   "metadata": {},
   "outputs": [],
   "source": [
    "for i in range(len(movie_df)):\n",
    "    for j in range(len(movie_df['Director_id'][i])-1):\n",
    "        for k in range(j+1,len(movie_df['Actors_id'][i])-1):\n",
    "            director_to_actor_matrix[movie_df['Director_id'][i][j]][movie_df['Actors_id'][i][k]] = director_to_actor_matrix[movie_df['Director_id'][i][j]][movie_df['Actors_id'][i][k]]+ 1\n"
   ]
  },
  {
   "cell_type": "code",
   "execution_count": 82,
   "id": "12ba2212",
   "metadata": {},
   "outputs": [],
   "source": [
    "for i in range(len(movie_df)):\n",
    "    for j in range(len(movie_df['Actors_id'][i])-1):\n",
    "        for k in range(j+1,len(movie_df['Actors_id'][i])-1):\n",
    "            actor_to_actor_matrix[movie_df['Actors_id'][i][j]][movie_df['Actors_id'][i][k]] = actor_to_actor_matrix[movie_df['Actors_id'][i][j]][movie_df['Actors_id'][i][k]]+ 1\n",
    "            actor_to_actor_matrix[movie_df['Actors_id'][i][k]][movie_df['Actors_id'][i][j]] = actor_to_actor_matrix[movie_df['Actors_id'][i][k]][movie_df['Actors_id'][i][j]]+ 1"
   ]
  },
  {
   "cell_type": "code",
   "execution_count": 83,
   "id": "470e6e3f",
   "metadata": {},
   "outputs": [
    {
     "data": {
      "text/plain": [
       "15.0"
      ]
     },
     "execution_count": 83,
     "metadata": {},
     "output_type": "execute_result"
    }
   ],
   "source": [
    "np.max(actor_to_actor_matrix)"
   ]
  },
  {
   "cell_type": "markdown",
   "id": "1301ea7d",
   "metadata": {},
   "source": [
    "# Find movie with closest cast "
   ]
  },
  {
   "cell_type": "code",
   "execution_count": null,
   "id": "09770783",
   "metadata": {},
   "outputs": [],
   "source": [
    "def intersection(lst1, lst2):\n",
    "    return len(list(set(lst1) & set(lst2)))\n",
    "\n",
    "def actor_intersection(lst1, lst2):\n",
    "    return list(set(lst1) & set(lst2))\n",
    "\n",
    "# Define a function to find the movie with the greatest intersection of actors\n",
    "def find_movie_with_greatest_intersection(movie_name, df):\n",
    "    movie = df[df['Title'] == movie_name]  # Get the movie with the given title\n",
    "    movie_actors = movie['Actors'].iloc[0]  # Get the list of actors in the movie\n",
    "    movie_index = movie.index[0]  # Get the index of the movie\n",
    "    \n",
    "    # Find the intersection of the movie actors with each other movie in the dataframe\n",
    "    intersections = []\n",
    "    for i in df.index:\n",
    "        if i != movie_index:\n",
    "            intersection_value = intersection(movie_actors, df.loc[i, 'Actors'])\n",
    "            if intersection_value:\n",
    "                intersections.append((intersection_value,i,actor_intersection(movie_actors, df.loc[i, 'Actors'])))\n",
    "    \n",
    "    max_intersect = max(intersections, key=lambda tup: tup[0], default=(0,0))\n",
    "    if(max_intersect[0] >1 ):\n",
    "        return (df['Title'].loc[max_intersect[1]],max_intersect[2])\n",
    "    else:\n",
    "        return \"Sorry, no movie with close cast\""
   ]
  },
  {
   "cell_type": "markdown",
   "id": "59b5facb",
   "metadata": {},
   "source": [
    "# Find actor/director that worked with most actors and on most movies"
   ]
  },
  {
   "cell_type": "code",
   "execution_count": null,
   "id": "b32f6dde",
   "metadata": {},
   "outputs": [],
   "source": [
    "def get_n_rows_with_most_ones(M, n):\n",
    "    # Calculate the number of 1s in each row\n",
    "    row_sums = np.sum(M, axis=1)\n",
    "    # Sort the row indices in descending order based on their number of 1s\n",
    "    sorted_rows = np.argsort(row_sums)[::-1]\n",
    "    # Return the top n rows with the most 1s\n",
    "    return sorted_rows[:n]\n",
    "\n",
    "def most_common_values(df, column_name, n):\n",
    "    return df[column_name].explode().value_counts().nlargest(n).index.tolist()\n"
   ]
  },
  {
   "cell_type": "code",
   "execution_count": null,
   "id": "254b4654",
   "metadata": {
    "scrolled": true
   },
   "outputs": [],
   "source": [
    "directors_most_actors = []\n",
    "for actor_id in list(get_n_rows_with_most_ones(director_to_actor_matrix,100)):\n",
    "    directors_most_actors.append(unique_directors[actor_id])\n",
    "    \n",
    "directors_most_actors[:10]"
   ]
  },
  {
   "cell_type": "code",
   "execution_count": null,
   "id": "047a837e",
   "metadata": {
    "scrolled": true
   },
   "outputs": [],
   "source": [
    "directors_most_movies = []\n",
    "directors_most_movies = most_common_values(movie_df,'Director',100)\n",
    "\n",
    "directors_most_movies[:10]"
   ]
  },
  {
   "cell_type": "code",
   "execution_count": null,
   "id": "6956a57b",
   "metadata": {},
   "outputs": [],
   "source": [
    "actors_most_movies = []\n",
    "actors_most_movies = most_common_values(movie_df,'Actors',500)\n",
    "\n",
    "actors_most_movies[:10]"
   ]
  },
  {
   "cell_type": "code",
   "execution_count": null,
   "id": "2f7793e9",
   "metadata": {},
   "outputs": [],
   "source": [
    "actors_most_actors = []\n",
    "for actor_id in list(get_n_rows_with_most_ones(actor_to_actor_matrix,500)):\n",
    "    actors_most_actors.append(unique_actors[actor_id])\n",
    "    \n",
    "actors_most_actors[:10]"
   ]
  },
  {
   "cell_type": "markdown",
   "id": "0e7893ab",
   "metadata": {},
   "source": [
    "# Filtered Dataset with only movies with famous actor or sufficient box office"
   ]
  },
  {
   "cell_type": "code",
   "execution_count": null,
   "id": "83d34165",
   "metadata": {},
   "outputs": [],
   "source": [
    "movie_df['Box_office'] = movie_df['Box_office'].fillna(0).str.replace(',', '')\n",
    "movie_df['Box_office'] = movie_df['Box_office'].astype(str).apply(lambda x: int(x) if x.isnumeric() else 0)\n",
    "\n",
    "threshold = 100000000 # replace with your desired value\n",
    "\n",
    "filtered_df = movie_df[movie_df['Actors'].apply(lambda x: any(item for item in x if item in actors_most_actors)) | (movie_df['Box_office'] >= threshold) | movie_df['Director'].apply(lambda x: any(item for item in x if item in directors_most_movies))].reset_index()\n",
    "filtered_df = filtered_df.drop(['index', 'level_0'], axis=1) \n"
   ]
  },
  {
   "cell_type": "code",
   "execution_count": null,
   "id": "36f3a788",
   "metadata": {},
   "outputs": [],
   "source": [
    "\n",
    "threshold = 100000000 # replace with your desired value\n",
    "\n",
    "filtered_df = movie_df[movie_df['Actors'].apply(lambda x: any(item for item in x if item in actors_most_actors)) | (movie_df['Box_office'] >= threshold) | movie_df['Director'].apply(lambda x: any(item for item in x if item in directors_most_movies))].reset_index()\n",
    "filtered_df = filtered_df.drop(['index', 'level_0'], axis=1) "
   ]
  },
  {
   "cell_type": "markdown",
   "id": "b3aa62fb",
   "metadata": {},
   "source": [
    "# Query"
   ]
  },
  {
   "cell_type": "code",
   "execution_count": null,
   "id": "011a1272",
   "metadata": {
    "scrolled": true
   },
   "outputs": [],
   "source": [
    "def display_row(df, row_name, name):\n",
    "    display(filtered_df[filtered_df[row_name].apply(lambda x:name in x)])"
   ]
  },
  {
   "cell_type": "code",
   "execution_count": null,
   "id": "bc26615e",
   "metadata": {},
   "outputs": [],
   "source": [
    "display_row(filtered_df, \"Title\", \"Ocean\")"
   ]
  },
  {
   "cell_type": "code",
   "execution_count": null,
   "id": "4f3e25b6",
   "metadata": {},
   "outputs": [],
   "source": [
    "def display_actor(df, actor):\n",
    "    display(filtered_df[filtered_df['Actors'].apply(lambda x: actor in x)])"
   ]
  },
  {
   "cell_type": "code",
   "execution_count": null,
   "id": "f445748f",
   "metadata": {},
   "outputs": [],
   "source": [
    "display_actor(filtered_df, \"Emma Watson\")"
   ]
  },
  {
   "cell_type": "code",
   "execution_count": null,
   "id": "2c1a0810",
   "metadata": {
    "scrolled": true
   },
   "outputs": [],
   "source": [
    "filtered_df[filtered_df['Director'].apply(lambda x: \"Quentin Tarantino\" in x)]\n"
   ]
  },
  {
   "cell_type": "code",
   "execution_count": null,
   "id": "57db0607",
   "metadata": {
    "scrolled": true
   },
   "outputs": [],
   "source": [
    "filtered_df"
   ]
  },
  {
   "cell_type": "code",
   "execution_count": null,
   "id": "da97b3ad",
   "metadata": {},
   "outputs": [],
   "source": [
    "filtered_unique_actors = set()\n",
    "for actors_list in filtered_df['Actors']:\n",
    "    for actor in actors_list:\n",
    "        filtered_unique_actors.add(actor)\n",
    "        \n",
    "filter_unique_actors = list(filtered_unique_actors)"
   ]
  },
  {
   "cell_type": "code",
   "execution_count": null,
   "id": "f843f9ae",
   "metadata": {},
   "outputs": [],
   "source": []
  }
 ],
 "metadata": {
  "kernelspec": {
   "display_name": "Python 3 (ipykernel)",
   "language": "python",
   "name": "python3"
  },
  "language_info": {
   "codemirror_mode": {
    "name": "ipython",
    "version": 3
   },
   "file_extension": ".py",
   "mimetype": "text/x-python",
   "name": "python",
   "nbconvert_exporter": "python",
   "pygments_lexer": "ipython3",
   "version": "3.8.16"
  }
 },
 "nbformat": 4,
 "nbformat_minor": 5
}
